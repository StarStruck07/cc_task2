{
 "cells": [
  {
   "cell_type": "code",
   "execution_count": 1,
   "metadata": {},
   "outputs": [],
   "source": [
    "from langchain_ollama import OllamaLLM\n",
    "from langchain.chat_models import init_chat_model\n",
    "import getpass\n",
    "import os\n",
    "import torch\n",
    "device = torch.device(\"mps\" if torch.backends.mps.is_available() else \"cpu\")\n",
    "\n",
    "llm = init_chat_model(\"llama3.1\",model_provider = \"Ollama\")"
   ]
  },
  {
   "cell_type": "code",
   "execution_count": 2,
   "metadata": {},
   "outputs": [
    {
     "name": "stderr",
     "output_type": "stream",
     "text": [
      "/Users/nilaychheda/Desktop/CodingShit/RAG/rag_env/lib/python3.13/site-packages/tqdm/auto.py:21: TqdmWarning: IProgress not found. Please update jupyter and ipywidgets. See https://ipywidgets.readthedocs.io/en/stable/user_install.html\n",
      "  from .autonotebook import tqdm as notebook_tqdm\n"
     ]
    }
   ],
   "source": [
    "from langchain_community.document_loaders import CSVLoader\n",
    "from langchain_community.vectorstores import Chroma\n",
    "from langchain_huggingface import HuggingFaceEmbeddings\n",
    "loader = CSVLoader(\n",
    "    file_path = 'nirf_clean.csv',\n",
    "    source_column=\"Name\",\n",
    "    metadata_columns=[\"Rank\",\"State\"],\n",
    ")\n",
    "docs = loader.load()\n",
    "embed = HuggingFaceEmbeddings(\n",
    "    model_name=\"sentence-transformers/all-MiniLM-L6-v2\",\n",
    "    model_kwargs={\"device\": device}\n",
    "    )\n",
    "db = Chroma.from_documents(docs,embed,persist_directory=\"./chroma_db\")\n",
    "retiever = db.as_retriever(search_kargs={\"k\":3})"
   ]
  },
  {
   "cell_type": "code",
   "execution_count": 3,
   "metadata": {},
   "outputs": [],
   "source": [
    "\n",
    "if not os.environ.get(\"TAVILY_API_KEY\"):\n",
    "    os.environ[\"TAVILY_API_KEY\"] = getpass.getpass(\"Tavily API key: \")\n",
    "from langchain_tavily import TavilySearch\n",
    "search_tool = TavilySearch(\n",
    "    max_results=5,\n",
    "    topic=\"general\"\n",
    "    )"
   ]
  },
  {
   "cell_type": "code",
   "execution_count": 4,
   "metadata": {},
   "outputs": [
    {
     "name": "stderr",
     "output_type": "stream",
     "text": [
      "/var/folders/q5/g1s9s5h155s0fl0r7wf047640000gn/T/ipykernel_2752/2033394661.py:2: LangChainDeprecationWarning: Please see the migration guide at: https://python.langchain.com/docs/versions/migrating_memory/\n",
      "  memory = ConversationBufferMemory(\n"
     ]
    }
   ],
   "source": [
    "from langchain.memory import ConversationBufferMemory\n",
    "memory = ConversationBufferMemory(\n",
    "    memory_key=\"history\",\n",
    "    input_key=\"input\"\n",
    "    )"
   ]
  },
  {
   "cell_type": "code",
   "execution_count": 5,
   "metadata": {},
   "outputs": [],
   "source": [
    "from langchain_core.prompts import ChatPromptTemplate\n",
    "from langchain.chains.combine_documents import create_stuff_documents_chain\n",
    "from langchain.chains import create_retrieval_chain\n",
    "template = \"\"\"\n",
    "You are an AI agent, specifically modeled to answer questions related to various engineering enterance exams in India.\n",
    "You should ask the user various questions related to his exam scores, branch preferences, interests etc to access his profile, and then reccomend him 3 colleges\n",
    "Refer to the list of top engineering colleges in India form the context from old database below. Also give the reccomendations based on the latests cutoffs from the web\n",
    "You must answer all the queires wihh the context provided below:\n",
    "Here is some relevant context form old database : {context}\n",
    "Here is some context taken from web: {web_context}\n",
    "Here is the chat history: {history}\n",
    "Here is the query : {input}\n",
    "\"\"\"\n",
    "\n",
    "prompt = ChatPromptTemplate.from_template(template)\n",
    "\n",
    "document_chain = create_stuff_documents_chain(llm,prompt)\n",
    "rag_chain = create_retrieval_chain(retiever,document_chain)\n"
   ]
  },
  {
   "cell_type": "code",
   "execution_count": 6,
   "metadata": {},
   "outputs": [
    {
     "name": "stdout",
     "output_type": "stream",
     "text": [
      "Hello! I am a llm agent to help with all your doubts regarding the various diffrent engineering entrance exams in India.Type 'exit' to quit\n",
      "\n",
      "User: Hello! When will the JEE advanced 2025 be held\n",
      "\n",
      "AI: Hello! According to the latest information, the JEE Advanced 2025 exam will be held on May 18, 2025.\n",
      "\n",
      "To help you prepare for your JEE Advanced exam and get a sense of which colleges might suit you best, could you please tell me:\n",
      "\n",
      "1. What's your current rank in JEE Main 2025?\n",
      "2. Are there any specific branches (like CS, ECE, Mech, etc.) or colleges that interest you?\n",
      "\n",
      "User: I have scored 99.5%ile in JEE mains, AIR 5000 in JEE advanced, and 331 marks in BITSAT\n",
      "\n",
      "AI: Based on your scores, here's a brief analysis:\n",
      "\n",
      "* You've scored 99.5 percentile in JEE Mains, which corresponds to a rank range of around 4501-5000 (as per the provided context).\n",
      "* In JEE Advanced, you have an AIR of 5000, which indicates a strong performance.\n",
      "* Your BITSAT score of 331 is also commendable.\n",
      "\n",
      "Considering your scores and interests, I'd like to ask some follow-up questions:\n",
      "\n",
      "1. Which branch are you leaning towards (CS, ECE, Mech, etc.)?\n",
      "2. Are there any specific colleges or institutes that interest you (e.g., NITs, IIITs, BITS Pilani, etc.)?\n",
      "\n",
      "This information will help me provide more tailored recommendations for your JEE Advanced 2025 counseling.\n",
      "\n",
      "Based on the top engineering colleges in India, here are some general recommendations:\n",
      "\n",
      "1. **Dr. B R Ambedkar National Institute of Technology, Jalandhar**: With a strong focus on technical education and research, NIT Jalandhar is a great option for students interested in pursuing engineering.\n",
      "2. **Indian Institute of Information Technology, Allahabad**: IIIT-Allahabad is known for its cutting-edge infrastructure and faculty members who are experts in their respective fields.\n",
      "3. **Birla Institute of Technology and Science, Pilani**: BITS Pilani is a top-ranked institute that offers a wide range of undergraduate and postgraduate programs.\n",
      "\n",
      "Please let me know your branch preferences and interests, and I'll provide more customized recommendations based on the latest cutoffs.\n",
      "\n",
      "User: I am only intersted in IITs, NITs, and BITS. I would like CS, ECE, MnC or related branches only\n",
      "\n",
      "AI: Based on your interest in IITs, NITs, and BITS, and specific branch preferences (CS, ECE, MnC), I'd like to ask a few more questions:\n",
      "\n",
      "1. What is the minimum cutoff rank you are expecting for admission to these colleges?\n",
      "2. Are there any specific reasons why you're interested in CS, ECE, or MnC branches? For example, do you have a particular interest in software development, electronics, or management-related fields?\n",
      "\n",
      "Considering your previous scores and interests, here's what I can tell so far:\n",
      "\n",
      "* Your JEE Main score of 99.5 percentile puts you in a strong position for admission to many top engineering colleges.\n",
      "* Your AIR of 5000 in JEE Advanced is respectable, but might not be sufficient for direct admission to some of the top IITs (e.g., IIT Bombay, IIT Delhi).\n",
      "* Your BITSAT score of 331 is above the minimum cutoff for admission to BITS Pilani.\n",
      "\n",
      "Based on your interests and scores, here are three college recommendations:\n",
      "\n",
      "1. **Indian Institute of Technology (IIT) Indore**: With a strong focus on research and innovation, IIT Indore offers undergraduate programs in CS, ECE, and other branches.\n",
      "2. **National Institute of Technology (NIT) Tiruchirappalli**: NIT Trichy is known for its excellent academic record and placement statistics. It offers undergraduate programs in CS, ECE, Mech, and other branches.\n",
      "3. **Birla Institute of Technology and Science (BITS), Pilani**: BITS Pilani is a top-ranked institute that offers a wide range of undergraduate and postgraduate programs in engineering and science.\n",
      "\n",
      "Please let me know if you'd like more tailored recommendations or have any further questions!\n",
      "Exiting conversation.\n"
     ]
    }
   ],
   "source": [
    "from langchain_core.documents import Document\n",
    "from accelerate import init_empty_weights\n",
    "\n",
    "print(\"Hello! I am a llm agent to help with all your doubts regarding the various diffrent engineering entrance exams in India.\" \\\n",
    "\"Type 'exit' to quit\")\n",
    "while True:\n",
    "    user_input = input(\"\\nUser: \")\n",
    "    if user_input == \"exit\":\n",
    "        print(\"Exiting conversation.\")\n",
    "        break\n",
    "\n",
    "    db_results = retiever.invoke(user_input)\n",
    "    context = \"\\n\".join(res.page_content for res in db_results)\n",
    "\n",
    "    web_results = search_tool.invoke({\"query\":user_input})\n",
    "    raw = web_results['results']\n",
    "    web_context = [\n",
    "        Document(page_content=res['content'], metadata= {\"url\": res['url']}) for res in raw\n",
    "    ]\n",
    "    history_dict = memory.load_memory_variables({})\n",
    "    history = history_dict.get(\"history\", \"\")\n",
    "\n",
    "    response = rag_chain.invoke({\n",
    "        \"input\": user_input,\n",
    "        \"web_context\": web_context,\n",
    "        \"context\": context,\n",
    "        \"history\": history,\n",
    "    })\n",
    "    memory.save_context({\"input\": user_input},{\"output\":response['answer']})\n",
    "    print(f\"\\nUser: {user_input}\") #printing user input so that it is visible in jupyter notebook\n",
    "    print(f\"\\nAI: {response['answer']}\")"
   ]
  }
 ],
 "metadata": {
  "kernelspec": {
   "display_name": "rag_env",
   "language": "python",
   "name": "python3"
  },
  "language_info": {
   "codemirror_mode": {
    "name": "ipython",
    "version": 3
   },
   "file_extension": ".py",
   "mimetype": "text/x-python",
   "name": "python",
   "nbconvert_exporter": "python",
   "pygments_lexer": "ipython3",
   "version": "3.13.2"
  }
 },
 "nbformat": 4,
 "nbformat_minor": 2
}
